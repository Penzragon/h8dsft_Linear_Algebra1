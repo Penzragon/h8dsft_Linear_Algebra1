{
 "cells": [
  {
   "cell_type": "markdown",
   "metadata": {},
   "source": [
    "# Hacktiv8 Phase 0: Non Graded Challenge 3\n",
    "\n",
    "---\n",
    "\n",
    "By [Rifky Aliffa](https://github.com/Penzragon)\n",
    "\n",
    "Instruction:\n",
    "\n",
    "1. Buatlah vektor di bawah ini dengan Python:\n",
    "\n",
    "   ![Vector](https://latex.codecogs.com/gif.latex?%5Cinline%20%5Cbegin%7Bpmatrix%7D17%20%5C%5C%2022%20%5C%5C%2019%20%5Cend%7Bpmatrix%7D)\n",
    "\n",
    "2. Diberikan 3 buah vector 3 dimensi:\n",
    "\n",
    "   ![Vector](https://latex.codecogs.com/gif.latex?%5Cinline%20A%20%3D%20%5Cbegin%7Bpmatrix%7D17%20%5C%5C%2022%20%5C%5C%2019%20%5Cend%7Bpmatrix%7D%2C%20B%20%3D%20%5Cbegin%7Bpmatrix%7D10%20%5C%5C%2020%20%5C%5C%2011%20%5Cend%7Bpmatrix%7D%20C%20%3D%20%5Cbegin%7Bpmatrix%7D5%20%5C%5C%2012%20%5C%5C%209%20%5Cend%7Bpmatrix%7D)\n",
    "\n",
    "   Hitunglah:\n",
    "\n",
    "   - A + B\n",
    "   - B - C\n",
    "   - A dot C\n",
    "   - A x B\n",
    "   - norm A\n",
    "   - Sudut antara vektor A dan B\n",
    "\n",
    "3. Buatlah plot dari vector berikut ini ke dalam bidang 2D:\n",
    "\n",
    "   ![Vector](https://latex.codecogs.com/gif.latex?%5Cinline%20u%20%3D%20%5Cbinom%7B2%7D%7B5%7D%2C%20v%20%3D%20%5Cbinom%7B3%7D%7B1%7D)\n"
   ]
  },
  {
   "cell_type": "markdown",
   "metadata": {},
   "source": [
    "## Import Library"
   ]
  },
  {
   "cell_type": "code",
   "execution_count": 1,
   "metadata": {},
   "outputs": [],
   "source": [
    "import numpy as np\n",
    "import matplotlib.pyplot as plt"
   ]
  },
  {
   "cell_type": "markdown",
   "metadata": {},
   "source": [
    "## Answer"
   ]
  },
  {
   "cell_type": "markdown",
   "metadata": {},
   "source": [
    "### 1. Buatlah vektor di bawah ini dengan Python:\n",
    "\n",
    "   ![Vector](https://latex.codecogs.com/gif.latex?%5Cinline%20%5Cbegin%7Bpmatrix%7D17%20%5C%5C%2022%20%5C%5C%2019%20%5Cend%7Bpmatrix%7D)"
   ]
  },
  {
   "cell_type": "code",
   "execution_count": 2,
   "metadata": {},
   "outputs": [
    {
     "data": {
      "text/plain": [
       "array([17, 22, 19])"
      ]
     },
     "execution_count": 2,
     "metadata": {},
     "output_type": "execute_result"
    }
   ],
   "source": [
    "np.array([17, 22, 19])"
   ]
  },
  {
   "cell_type": "markdown",
   "metadata": {},
   "source": [
    "### 2. Diberikan 3 buah vector 3 dimensi:\n",
    "\n",
    "   ![Vector](https://latex.codecogs.com/gif.latex?%5Cinline%20A%20%3D%20%5Cbegin%7Bpmatrix%7D17%20%5C%5C%2022%20%5C%5C%2019%20%5Cend%7Bpmatrix%7D%2C%20B%20%3D%20%5Cbegin%7Bpmatrix%7D10%20%5C%5C%2020%20%5C%5C%2011%20%5Cend%7Bpmatrix%7D%20C%20%3D%20%5Cbegin%7Bpmatrix%7D5%20%5C%5C%2012%20%5C%5C%209%20%5Cend%7Bpmatrix%7D)"
   ]
  },
  {
   "cell_type": "code",
   "execution_count": 3,
   "metadata": {},
   "outputs": [
    {
     "name": "stdout",
     "output_type": "stream",
     "text": [
      "Vektor A: [17 22 19]\n",
      "Vektor B: [10 20 11]\n",
      "Vektor C: [ 5 12  9]\n"
     ]
    }
   ],
   "source": [
    "a = np.array([17, 22, 19])\n",
    "b = np.array([10, 20, 11])\n",
    "c = np.array([5, 12, 9])\n",
    "\n",
    "print(f'Vektor A: {a}')\n",
    "print(f'Vektor B: {b}')\n",
    "print(f'Vektor C: {c}')"
   ]
  },
  {
   "cell_type": "markdown",
   "metadata": {},
   "source": [
    "#### Hitunglah A + B"
   ]
  },
  {
   "cell_type": "code",
   "execution_count": 4,
   "metadata": {},
   "outputs": [
    {
     "data": {
      "text/plain": [
       "array([27, 42, 30])"
      ]
     },
     "execution_count": 4,
     "metadata": {},
     "output_type": "execute_result"
    }
   ],
   "source": [
    "a + b"
   ]
  },
  {
   "cell_type": "markdown",
   "metadata": {},
   "source": [
    "#### Hitunglah B - C"
   ]
  },
  {
   "cell_type": "code",
   "execution_count": 5,
   "metadata": {},
   "outputs": [
    {
     "data": {
      "text/plain": [
       "array([5, 8, 2])"
      ]
     },
     "execution_count": 5,
     "metadata": {},
     "output_type": "execute_result"
    }
   ],
   "source": [
    "b - c"
   ]
  },
  {
   "cell_type": "markdown",
   "metadata": {},
   "source": [
    "#### Hitunglah A dot C"
   ]
  },
  {
   "cell_type": "code",
   "execution_count": 6,
   "metadata": {},
   "outputs": [
    {
     "data": {
      "text/plain": [
       "520"
      ]
     },
     "execution_count": 6,
     "metadata": {},
     "output_type": "execute_result"
    }
   ],
   "source": [
    "np.dot(a, c)"
   ]
  },
  {
   "cell_type": "markdown",
   "metadata": {},
   "source": [
    "#### Hitunglah A * B"
   ]
  },
  {
   "cell_type": "code",
   "execution_count": 7,
   "metadata": {},
   "outputs": [
    {
     "data": {
      "text/plain": [
       "array([170, 440, 209])"
      ]
     },
     "execution_count": 7,
     "metadata": {},
     "output_type": "execute_result"
    }
   ],
   "source": [
    "a * b"
   ]
  },
  {
   "cell_type": "markdown",
   "metadata": {},
   "source": [
    "#### Hitunglah norm A"
   ]
  },
  {
   "cell_type": "code",
   "execution_count": 8,
   "metadata": {},
   "outputs": [
    {
     "name": "stdout",
     "output_type": "stream",
     "text": [
      "Menggunakan Euclidean Distance: 33.67491648096547\n",
      "Menggunakan Manhattan Distance: 58.0\n"
     ]
    }
   ],
   "source": [
    "print(f'Menggunakan Euclidean Distance: {np.linalg.norm(a)}')\n",
    "print(f'Menggunakan Manhattan Distance: {np.linalg.norm(a, 1)}')"
   ]
  },
  {
   "cell_type": "markdown",
   "metadata": {},
   "source": [
    "#### Hitunglah sudut antara A dan B"
   ]
  },
  {
   "cell_type": "code",
   "execution_count": 9,
   "metadata": {},
   "outputs": [
    {
     "name": "stdout",
     "output_type": "stream",
     "text": [
      "Sudut antara A dan B adalah 12.59\n"
     ]
    }
   ],
   "source": [
    "cos_theta = (a@b) / (np.linalg.norm(a) * np.linalg.norm(b))\n",
    "rad = np.arccos(cos_theta)\n",
    "degree = np.degrees(rad)\n",
    "print(f'Sudut antara A dan B adalah {degree:.2f}')"
   ]
  },
  {
   "cell_type": "markdown",
   "metadata": {},
   "source": [
    "### 3. Buatlah plot dari vector berikut ini ke dalam bidang 2D:\n",
    "\n",
    "   ![Vector](https://latex.codecogs.com/gif.latex?%5Cinline%20u%20%3D%20%5Cbinom%7B2%7D%7B5%7D%2C%20v%20%3D%20%5Cbinom%7B3%7D%7B1%7D)"
   ]
  },
  {
   "cell_type": "code",
   "execution_count": 10,
   "metadata": {},
   "outputs": [],
   "source": [
    "u = np.array([2, 5])\n",
    "v = np.array([3, 1])"
   ]
  },
  {
   "cell_type": "code",
   "execution_count": 11,
   "metadata": {},
   "outputs": [
    {
     "name": "stdout",
     "output_type": "stream",
     "text": [
      "Vektor U: [2 5]\n",
      "Vektor V: [3 1]\n"
     ]
    }
   ],
   "source": [
    "print(f'Vektor U: {u}')\n",
    "print(f'Vektor V: {v}')"
   ]
  },
  {
   "cell_type": "code",
   "execution_count": 12,
   "metadata": {},
   "outputs": [
    {
     "name": "stdout",
     "output_type": "stream",
     "text": [
      "x: (2, 3)\n",
      "y: (5, 1)\n"
     ]
    }
   ],
   "source": [
    "x, y = zip(u, v)\n",
    "print(f'x: {x}')\n",
    "print(f'y: {y}')"
   ]
  },
  {
   "cell_type": "markdown",
   "metadata": {},
   "source": [
    "### Scatter Plot"
   ]
  },
  {
   "cell_type": "code",
   "execution_count": 13,
   "metadata": {},
   "outputs": [
    {
     "data": {
      "image/png": "[encoded data removed]",
      "text/plain": [
       "<Figure size 432x288 with 1 Axes>"
      ]
     },
     "metadata": {
      "needs_background": "light"
     },
     "output_type": "display_data"
    }
   ],
   "source": [
    "plt.scatter(x, y, color=['blue', 'red'])\n",
    "plt.axis([0, 6, 0, 6])\n",
    "plt.grid()"
   ]
  },
  {
   "cell_type": "markdown",
   "metadata": {},
   "source": [
    "### Arrow Plot"
   ]
  },
  {
   "cell_type": "code",
   "execution_count": 14,
   "metadata": {},
   "outputs": [
    {
     "data": {
      "text/plain": [
       "(0.0, 6.0, 0.0, 6.0)"
      ]
     },
     "execution_count": 14,
     "metadata": {},
     "output_type": "execute_result"
    },
    {
     "data": {
      "image/png": "[encoded data removed]",
      "text/plain": [
       "<Figure size 432x288 with 1 Axes>"
      ]
     },
     "metadata": {
      "needs_background": "light"
     },
     "output_type": "display_data"
    }
   ],
   "source": [
    "plt.arrow(0, 0, x[0], y[0], color='blue', head_width=0.1)\n",
    "plt.arrow(0, 0, x[1], y[1], color='red', head_width=0.1)\n",
    "plt.axis([0, 6, 0, 6])"
   ]
  }
 ],
 "metadata": {
  "interpreter": {
   "hash": "112f40161e87cdf99d798de2b86adf76c0b833717b9d65fa1f256b9c887e27bf"
  },
  "kernelspec": {
   "display_name": "Python 3.9.1 64-bit",
   "language": "python",
   "name": "python3"
  },
  "language_info": {
   "codemirror_mode": {
    "name": "ipython",
    "version": 3
   },
   "file_extension": ".py",
   "mimetype": "text/x-python",
   "name": "python",
   "nbconvert_exporter": "python",
   "pygments_lexer": "ipython3",
   "version": "3.9.1"
  },
  "orig_nbformat": 4
 },
 "nbformat": 4,
 "nbformat_minor": 2
}
